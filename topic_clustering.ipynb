{
 "cells": [
  {
   "cell_type": "code",
   "execution_count": 1,
   "metadata": {},
   "outputs": [],
   "source": [
    "import pandas as pd\n",
    "from methods import *\n",
    "import nltk\n",
    "from nltk.corpus import stopwords\n",
    "from nltk.tokenize import word_tokenize\n",
    "from nltk.stem import WordNetLemmatizer\n",
    "from textblob import TextBlob\n",
    "import matplotlib.pyplot as plt\n",
    "from sklearn.feature_extraction.text import TfidfVectorizer, CountVectorizer\n",
    "from sklearn.decomposition import LatentDirichletAllocation, NMF\n",
    "\n",
    "'''\n",
    "# Ensure NLTK resources are downloaded (only needs to run once)\n",
    "nltk.download('punkt')\n",
    "nltk.download('stopwords')\n",
    "nltk.download('wordnet')\n",
    "nltk.download('averaged_perceptron_tagger')\n",
    "'''\n",
    "\n",
    "src = \"https://www.debates.org/voter-education/debate-transcripts\"\n",
    "debateData = {}"
   ]
  },
  {
   "cell_type": "code",
   "execution_count": 2,
   "metadata": {},
   "outputs": [],
   "source": [
    "urlsTemp = urlExtractor(src)[10:57] # hardcoded way to get the urls that specifically pertain to the transcripts of the debates on the given website (\"debate.org\")\n",
    "urls = []\n",
    "for url in urlsTemp:\n",
    "    urls.append(\"https://www.debates.org\" + url)"
   ]
  },
  {
   "cell_type": "code",
   "execution_count": 4,
   "metadata": {},
   "outputs": [],
   "source": [
    "# for each article URL, call the getArticleData and add it to a dictionary. #\n",
    "# Similarly, process the text and date into their approrpiate formats.\n",
    "id = 0\n",
    "for article_url in urls:\n",
    "    tempData = getArticleData(article_url)\n",
    "    debateData[id] = {\"date\": formatDate(tempData[0]), \"text\" :wordProcessor(tempData[1]), \"source\" : article_url}\n",
    "    id += 1"
   ]
  },
  {
   "cell_type": "code",
   "execution_count": null,
   "metadata": {},
   "outputs": [],
   "source": [
    "# for each entry in debate data, perform the topic analysis"
   ]
  },
  {
   "cell_type": "code",
   "execution_count": null,
   "metadata": {},
   "outputs": [],
   "source": [
    "data_df = pd.DataFrame.from_dict(debateData, orient='index')\n",
    "\n",
    "# Vectorization\n",
    "vectorizer = TfidfVectorizer(max_df=0.95, min_df=2, stop_words='english')\n",
    "tfidf = vectorizer.fit_transform(data_df['text'])\n",
    "\n",
    "# LDA model (change to NMF for NMF model)\n",
    "lda = NMF(n_components=5, random_state=0)\n",
    "lda.fit(tfidf)\n",
    "\n",
    "# Display topics\n",
    "def display_topics(model, feature_names, no_top_words):\n",
    "    for topic_idx, topic in enumerate(model.components_):\n",
    "        print(f\"Topic {topic_idx}:\")\n",
    "        print(\" \".join([feature_names[i] for i in topic.argsort()[:-no_top_words - 1:-1]]))\n",
    "\n",
    "no_top_words = 10\n",
    "tf_feature_names = vectorizer.get_feature_names_out()\n",
    "display_topics(lda, tf_feature_names, no_top_words)"
   ]
  }
 ],
 "metadata": {
  "kernelspec": {
   "display_name": "Python 3",
   "language": "python",
   "name": "python3"
  },
  "language_info": {
   "codemirror_mode": {
    "name": "ipython",
    "version": 3
   },
   "file_extension": ".py",
   "mimetype": "text/x-python",
   "name": "python",
   "nbconvert_exporter": "python",
   "pygments_lexer": "ipython3",
   "version": "3.11.5"
  }
 },
 "nbformat": 4,
 "nbformat_minor": 2
}

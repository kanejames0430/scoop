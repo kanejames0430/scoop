{
 "cells": [
  {
   "cell_type": "code",
   "execution_count": null,
   "metadata": {},
   "outputs": [],
   "source": [
    "# LANGUAGE COMPLEXITY\n",
    "\n",
    "# We could test the frequency of each word, as it could be the case that people with a larger vocabulary would use \n",
    "# different words. However political language is differrent. Most often words have a political meaning behind them that \n",
    "# candidates intentionally repeat to drive their point. Instead I want to measure how advanced different words are. \n",
    "# For example, \"immensely\" would score higher than \"largely\" or \"bigly\" (although disputed, the latter has been used by a \n",
    "# president on national television before: https://www.bbc.com/news/magazine-37483869)."
   ]
  }
 ],
 "metadata": {
  "language_info": {
   "name": "python"
  }
 },
 "nbformat": 4,
 "nbformat_minor": 2
}
